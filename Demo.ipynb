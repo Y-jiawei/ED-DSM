# Demo Notebook for ED-DSM Framework
# This notebook demonstrates the key steps of the ED-DSM framework,
# including data preprocessing, model training, map generation, and validation.
# The example data provided in this repository is used for demonstration purposes.
# For full reproducibility, users can adapt this workflow to their own datasets.

# Import necessary libraries
import numpy as np
import pandas as pd
import geopandas as gpd
from sklearn.ensemble import RandomForestRegressor
from sklearn.model_selection import train_test_split
from sklearn.metrics import mean_squared_error
import rasterio
from rasterio.plot import show
import matplotlib.pyplot as plt

# Step 1: Load and Preprocess Data
# -----------------------------------------------------------------------------
print("\nStep 1: Loading and Preprocessing Data...")
# Load example dataset (replace with your own data)
data = pd.read_csv("data/example_data.csv")

# Display the first few rows of the dataset
print("\nExample Data:")
print(data.head())

# Perform basic preprocessing (e.g., handling missing values, feature engineering)
data = data.dropna()  # Remove rows with missing values
X = data.drop(columns=["target"])  # Features
y = data["target"]  # Target variable

# Split data into training and testing sets
X_train, X_test, y_train, y_test = train_test_split(X, y, test_size=0.2, random_state=42)

# Display dataset statistics
print(f"\nTraining Data: {X_train.shape[0]} samples")
print(f"Testing Data: {X_test.shape[0]} samples")

# Step 2: Model Training
# -----------------------------------------------------------------------------
print("\nStep 2: Training the Model...")
# Initialize a Random Forest Regressor (replace with your model)
model = RandomForestRegressor(n_estimators=100, random_state=42)

# Train the model
model.fit(X_train, y_train)

# Step 3: Model Evaluation
# -----------------------------------------------------------------------------
print("\nStep 3: Evaluating the Model...")
# Predict on the test set
y_pred = model.predict(X_test)

# Calculate Mean Squared Error (MSE)
mse = mean_squared_error(y_test, y_pred)
print(f"\nMean Squared Error (MSE): {mse:.4f}")

# Step 4: Map Generation
# -----------------------------------------------------------------------------
print("\nStep 4: Generating the ED-DSM Map...")
# Load a raster file for spatial prediction (replace with your own raster)
raster_path = "data/example_raster.tif"
with rasterio.open(raster_path) as src:
    raster_data = src.read(1)
    meta = src.meta

# Reshape raster data for prediction
raster_flat = raster_data.flatten().reshape(-1, 1)  # Example for 1 band

# Predict values for the raster
predicted_values = model.predict(raster_flat)

# Reshape predictions back to original raster shape
predicted_map = predicted_values.reshape(raster_data.shape)

# Save the predicted map as a new raster file
output_raster_path = "output/predicted_map.tif"
with rasterio.open(output_raster_path, "w", **meta) as dst:
    dst.write(predicted_map, 1)

print(f"\nPredicted map saved to: {output_raster_path}")

# Step 5: Visualization
# -----------------------------------------------------------------------------
print("\nStep 5: Visualizing Results...")
# Plot the original raster
plt.figure(figsize=(12, 6))
plt.subplot(1, 2, 1)
with rasterio.open(raster_path) as src:
    show(src, title="Original Raster")

# Plot the predicted map
plt.subplot(1, 2, 2)
with rasterio.open(output_raster_path) as dst:
    show(dst, title="Predicted ED-DSM Map")
plt.show()

print("\nDemo completed successfully!")
